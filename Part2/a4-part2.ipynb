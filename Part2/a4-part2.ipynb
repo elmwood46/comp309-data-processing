{
 "cells": [
  {
   "cell_type": "code",
   "execution_count": 1,
   "id": "a5662698-48a8-4e2d-8aa2-d250f6d8afb2",
   "metadata": {},
   "outputs": [],
   "source": [
    "# import stuff\n",
    "\n",
    "%matplotlib inline \n",
    "\n",
    "# libraries\n",
    "import matplotlib.pyplot as plt\n",
    "import numpy as np\n",
    "from sklearn import preprocessing\n",
    "import numpy.random as rng\n",
    "np.set_printoptions(precision=6)\n",
    "from sklearn import datasets\n",
    "import pandas as pd\n",
    "import numpy as np\n",
    "import matplotlib.pyplot as plt\n",
    "\n",
    "# preprocessing\n",
    "from sklearn.compose import ColumnTransformer\n",
    "from sklearn.preprocessing import StandardScaler\n",
    "from sklearn.preprocessing import OneHotEncoder\n",
    "from sklearn.preprocessing import LabelEncoder\n",
    "\n",
    "#classification\n",
    "from sklearn.neighbors import KNeighborsClassifier\n",
    "from sklearn.naive_bayes import GaussianNB\n",
    "from sklearn.svm import SVC\n",
    "from sklearn.tree import DecisionTreeClassifier\n",
    "from sklearn.ensemble import RandomForestClassifier\n",
    "from sklearn.ensemble import AdaBoostClassifier\n",
    "from sklearn.ensemble import GradientBoostingClassifier\n",
    "from sklearn.discriminant_analysis import LinearDiscriminantAnalysis\n",
    "from sklearn.neural_network import MLPClassifier\n",
    "from sklearn.linear_model import LogisticRegression\n",
    "\n",
    "#metrics\n",
    "from sklearn.metrics import accuracy_score, precision_score, recall_score, f1_score, roc_auc_score\n",
    "from time import time\n",
    "\n",
    "# Fixing random state for reproducibility\n",
    "np.random.seed(10)"
   ]
  },
  {
   "cell_type": "markdown",
   "id": "bd452ed1-67f5-4cda-9a38-651bc2894c10",
   "metadata": {},
   "source": [
    "# PART 2\n",
    "## import data"
   ]
  },
  {
   "cell_type": "code",
   "execution_count": 2,
   "id": "915165d8-1641-4896-9241-13aba68f8e3c",
   "metadata": {},
   "outputs": [],
   "source": [
    "aTr = pd.read_csv('a4-data\\\\part2classification\\\\adult.data', header=None)\n",
    "aTe = pd.read_csv('a4-data\\\\part2classification\\\\adult.test', header=None)\n",
    "\n",
    "col_labels = ['age','workclass','fnlwgt','education','education.num','marital.status','occupation','relationship','race','sex','capital.gain','capital.loss','hours.per.week','native.country','income']\n",
    "aTr.columns=col_labels\n",
    "aTe.columns=col_labels"
   ]
  },
  {
   "cell_type": "markdown",
   "id": "497cd6d5-37df-44d2-8874-a269427b4bfe",
   "metadata": {},
   "source": [
    "## clean training and test set 'income' column"
   ]
  },
  {
   "cell_type": "code",
   "execution_count": 3,
   "id": "b7da8e54-1a3a-4c9d-8fdb-20ff9239b438",
   "metadata": {},
   "outputs": [
    {
     "name": "stdout",
     "output_type": "stream",
     "text": [
      "['<=50K' '<=50K' '>50K' ... '<=50K' '<=50K' '>50K']\n"
     ]
    },
    {
     "data": {
      "text/plain": [
       "array(['<=50K', '<=50K', '<=50K', ..., '<=50K', '<=50K', '>50K'],\n",
       "      dtype=object)"
      ]
     },
     "execution_count": 3,
     "metadata": {},
     "output_type": "execute_result"
    }
   ],
   "source": [
    "aTe['income'] = aTe['income'].str.replace(r'K.', 'K')\n",
    "aTe['income'] = aTe['income'].str.replace(r' ', '')\n",
    "aTr['income'] = aTr['income'].str.replace(r' ', '')\n",
    "print(aTe['income'].values)\n",
    "aTr['income'].values"
   ]
  },
  {
   "cell_type": "markdown",
   "id": "3cca0945-6849-4910-9944-44433ed255db",
   "metadata": {},
   "source": [
    "## check for missing vals"
   ]
  },
  {
   "cell_type": "code",
   "execution_count": 4,
   "id": "2840e4a3-87bb-411c-a633-e175803362f2",
   "metadata": {},
   "outputs": [
    {
     "data": {
      "text/plain": [
       "age               False\n",
       "workclass         False\n",
       "fnlwgt            False\n",
       "education         False\n",
       "education.num     False\n",
       "marital.status    False\n",
       "occupation        False\n",
       "relationship      False\n",
       "race              False\n",
       "sex               False\n",
       "capital.gain      False\n",
       "capital.loss      False\n",
       "hours.per.week    False\n",
       "native.country    False\n",
       "income            False\n",
       "dtype: bool"
      ]
     },
     "execution_count": 4,
     "metadata": {},
     "output_type": "execute_result"
    }
   ],
   "source": [
    "aTe.isna().any()"
   ]
  },
  {
   "cell_type": "markdown",
   "id": "25db3e39-3235-42af-b8cf-25d0c194cf2a",
   "metadata": {},
   "source": [
    "## scale numerical columns"
   ]
  },
  {
   "cell_type": "code",
   "execution_count": 5,
   "id": "eb760c09-0873-44a2-8f12-276b39945fe6",
   "metadata": {},
   "outputs": [
    {
     "data": {
      "text/plain": [
       "(16281, 15)"
      ]
     },
     "execution_count": 5,
     "metadata": {},
     "output_type": "execute_result"
    }
   ],
   "source": [
    "# define the columns to be scaled\n",
    "cols_to_scale = ['age', 'fnlwgt', 'education.num', 'capital.gain', 'capital.loss', 'hours.per.week']\n",
    "\n",
    "\n",
    "aTr_scaled = aTr\n",
    "aTe_scaled = aTe\n",
    "\n",
    "scaler = StandardScaler()\n",
    "\n",
    "for col in cols_to_scale:\n",
    "    colarray = np.asarray(aTr[col]).reshape(-1,1)\n",
    "    colscaled = scaler.fit_transform(colarray)\n",
    "    aTr_scaled[col] = colscaled\n",
    "    colarray = np.asarray(aTe[col]).reshape(-1,1)\n",
    "    colscaled = scaler.fit_transform(colarray)\n",
    "    aTe_scaled[col] = colscaled\n",
    "\n",
    "aTe_scaled.shape"
   ]
  },
  {
   "cell_type": "markdown",
   "id": "ae46455e-7688-4606-9c55-49ed97448ab9",
   "metadata": {},
   "source": [
    "## onehot encoding on categorical columns"
   ]
  },
  {
   "cell_type": "code",
   "execution_count": 6,
   "id": "e81d6257-8c54-428a-8947-849d9f7a1143",
   "metadata": {},
   "outputs": [],
   "source": [
    "# perform onehot encoding\n",
    "cols = ['workclass','education','marital.status','occupation','relationship','race','sex','native.country']\n",
    "\n",
    "aTr_encoded = aTr_scaled\n",
    "\n",
    "aTr_encoded = pd.get_dummies(aTr_scaled, columns=cols)\n",
    "aTe_encoded = pd.get_dummies(aTe_scaled, columns=cols)"
   ]
  },
  {
   "cell_type": "markdown",
   "id": "53cbd11b-7db0-4372-90c4-d5bab1fb5c19",
   "metadata": {},
   "source": [
    "## split the target variable from training and test sets"
   ]
  },
  {
   "cell_type": "code",
   "execution_count": 7,
   "id": "8a19a077-e4e6-4fde-b8fe-67bd867b355e",
   "metadata": {},
   "outputs": [
    {
     "data": {
      "text/plain": [
       "(32561, 108)"
      ]
     },
     "execution_count": 7,
     "metadata": {},
     "output_type": "execute_result"
    }
   ],
   "source": [
    "trX = aTr_encoded.drop(columns=['income'])\n",
    "trY = aTr_encoded['income']\n",
    "trX.shape"
   ]
  },
  {
   "cell_type": "code",
   "execution_count": 8,
   "id": "cdd185d0-a275-4c13-9316-535fc77382c6",
   "metadata": {},
   "outputs": [
    {
     "data": {
      "text/plain": [
       "(32561,)"
      ]
     },
     "execution_count": 8,
     "metadata": {},
     "output_type": "execute_result"
    }
   ],
   "source": [
    "trY.shape"
   ]
  },
  {
   "cell_type": "code",
   "execution_count": 9,
   "id": "bcd943aa-f5e6-4c8c-bee4-605647fefb60",
   "metadata": {},
   "outputs": [],
   "source": [
    "teX = aTe_encoded.drop(columns=['income'])\n",
    "teY = aTe_encoded['income']"
   ]
  },
  {
   "cell_type": "code",
   "execution_count": 10,
   "id": "d7f72229-71a9-4924-a0d4-0c9e67d78633",
   "metadata": {},
   "outputs": [
    {
     "data": {
      "text/plain": [
       "(16281, 107)"
      ]
     },
     "execution_count": 10,
     "metadata": {},
     "output_type": "execute_result"
    }
   ],
   "source": [
    "teX.shape"
   ]
  },
  {
   "cell_type": "code",
   "execution_count": 11,
   "id": "0a02da91-0505-4132-81d8-d3efa3f2d1fb",
   "metadata": {},
   "outputs": [
    {
     "data": {
      "text/plain": [
       "(16281,)"
      ]
     },
     "execution_count": 11,
     "metadata": {},
     "output_type": "execute_result"
    }
   ],
   "source": [
    "teY.shape"
   ]
  },
  {
   "cell_type": "markdown",
   "id": "bb4a9b50-e93b-4efc-80d9-2dcddcaec906",
   "metadata": {},
   "source": [
    "## insert 'native.country_ Holand-Netherlands' into test set"
   ]
  },
  {
   "cell_type": "code",
   "execution_count": 12,
   "id": "608cac7e-6507-41fa-b987-5eb2268e4d8d",
   "metadata": {},
   "outputs": [
    {
     "data": {
      "text/plain": [
       "(16281, 108)"
      ]
     },
     "execution_count": 12,
     "metadata": {},
     "output_type": "execute_result"
    }
   ],
   "source": [
    "idx = trX.columns.get_loc('native.country_ Holand-Netherlands')\n",
    "if ('native.country_ Holand-Netherlands' not in teX.columns):\n",
    "    teX.insert(idx,'native.country_ Holand-Netherlands',0)\n",
    "holand = 'native.country_ Holand-Netherlands'\n",
    "teX[holand] = teX[holand].replace(0, False)\n",
    "teX.shape"
   ]
  },
  {
   "cell_type": "markdown",
   "id": "20343481-4633-45e5-90a8-0e28525adb28",
   "metadata": {},
   "source": [
    "## encode positive class"
   ]
  },
  {
   "cell_type": "code",
   "execution_count": 13,
   "id": "caa09544-3440-457e-a336-aa6274951e99",
   "metadata": {},
   "outputs": [
    {
     "data": {
      "text/plain": [
       "array(['<=50K', '<=50K', '>50K', ..., '<=50K', '<=50K', '>50K'],\n",
       "      dtype=object)"
      ]
     },
     "execution_count": 13,
     "metadata": {},
     "output_type": "execute_result"
    }
   ],
   "source": [
    "trX_vals=trX.values.astype(np.float64)\n",
    "trY_vals=trY.values\n",
    "teX_vals=teX.values.astype(np.float64)\n",
    "teY_vals=teY.values\n",
    "teY_vals"
   ]
  },
  {
   "cell_type": "code",
   "execution_count": 14,
   "id": "07522aea-5f05-4beb-8639-de3f72d01759",
   "metadata": {},
   "outputs": [
    {
     "data": {
      "text/plain": [
       "array([0, 0, 1, ..., 0, 0, 1])"
      ]
     },
     "execution_count": 14,
     "metadata": {},
     "output_type": "execute_result"
    }
   ],
   "source": [
    "positive_class_label = \">50K\"\n",
    "\n",
    "teY_vals_ = np.where(teY_vals == positive_class_label, 1, 0)\n",
    "trY_vals_ = np.where(trY_vals == positive_class_label, 1, 0)\n",
    "teY_vals_"
   ]
  },
  {
   "cell_type": "markdown",
   "id": "f1d8d573-8133-435c-a9c3-767f03750936",
   "metadata": {},
   "source": [
    "## test classifiers"
   ]
  },
  {
   "cell_type": "code",
   "execution_count": 15,
   "id": "6e8c0d00-ef66-49ab-8505-a81f36fa1d6c",
   "metadata": {},
   "outputs": [],
   "source": [
    "classifiers = {\n",
    "    'KNeighbours Classifier':KNeighborsClassifier(),\n",
    "    'Gaussian Naive Bayes':GaussianNB(),\n",
    "    'SVC':SVC(),\n",
    "    'Decision Tree Classifier':DecisionTreeClassifier(),\n",
    "    'Random Forest Classifier':RandomForestClassifier(),\n",
    "    'Ada Boost Classifier':AdaBoostClassifier(),\n",
    "    'Gradient Boosting Classifier':GradientBoostingClassifier(),\n",
    "    'Linear Discriminant Analysis':LinearDiscriminantAnalysis(),\n",
    "    'MLPClassifier':MLPClassifier(),\n",
    "    'Logisitic Regression':LogisticRegression()\n",
    "}\n",
    "\n",
    "cPerf = pd.DataFrame(columns=['Classifier','Accuracy', 'Precision', 'Recall', 'F1-Score', 'AUC'])"
   ]
  },
  {
   "cell_type": "code",
   "execution_count": 16,
   "id": "c6a6a99c-fade-40b6-ac8f-4a9e36c63d03",
   "metadata": {},
   "outputs": [
    {
     "name": "stderr",
     "output_type": "stream",
     "text": [
      "C:\\Users\\Judah\\AppData\\Local\\Temp\\ipykernel_14144\\1267326170.py:27: FutureWarning: The behavior of DataFrame concatenation with empty or all-NA entries is deprecated. In a future version, this will no longer exclude empty or all-NA columns when determining the result dtypes. To retain the old behavior, exclude the relevant entries before the concat operation.\n",
      "  cPerf.loc[len(cPerf)] = row\n",
      "C:\\Python311\\Lib\\site-packages\\sklearn\\neural_network\\_multilayer_perceptron.py:691: ConvergenceWarning: Stochastic Optimizer: Maximum iterations (200) reached and the optimization hasn't converged yet.\n",
      "  warnings.warn(\n",
      "C:\\Python311\\Lib\\site-packages\\sklearn\\linear_model\\_logistic.py:460: ConvergenceWarning: lbfgs failed to converge (status=1):\n",
      "STOP: TOTAL NO. of ITERATIONS REACHED LIMIT.\n",
      "\n",
      "Increase the number of iterations (max_iter) or scale the data as shown in:\n",
      "    https://scikit-learn.org/stable/modules/preprocessing.html\n",
      "Please also refer to the documentation for alternative solver options:\n",
      "    https://scikit-learn.org/stable/modules/linear_model.html#logistic-regression\n",
      "  n_iter_i = _check_optimize_result(\n"
     ]
    }
   ],
   "source": [
    "for key, model in classifiers.items():\n",
    "    # Fit the model on the training data\n",
    "    model.fit(trX_vals, trY_vals_)\n",
    "\n",
    "    start_time = time()  # Record start time\n",
    "    \n",
    "    # Predict on the test data\n",
    "    predictions = model.predict(teX_vals)\n",
    "    \n",
    "    end_time = time()  # Record end time\n",
    "\n",
    "    # Calculate classification metrics\n",
    "    accuracy = accuracy_score(teY_vals_, predictions)\n",
    "    precision = precision_score(teY_vals_, predictions)\n",
    "    recall = recall_score(teY_vals_, predictions)\n",
    "    f1 = f1_score(teY_vals_, predictions)\n",
    "\n",
    "    # For AUC predict class probabilities for binary classifiers\n",
    "    if hasattr(model, 'predict_proba'):\n",
    "        class_probs = model.predict_proba(teX_vals)[:, 1]  # Probability of the positive class\n",
    "        auc = roc_auc_score(teY_vals_, class_probs)\n",
    "    else:\n",
    "        auc = None\n",
    "\n",
    "    # store results for each algorithm      \n",
    "    row = {'Classifier': key, 'Accuracy': accuracy, 'Precision': precision,'Recall': recall, 'F1-Score': f1, 'AUC': auc}\n",
    "    cPerf.loc[len(cPerf)] = row"
   ]
  },
  {
   "cell_type": "code",
   "execution_count": 17,
   "id": "abec20f1-2ef8-4b36-bdab-6fb635204a63",
   "metadata": {},
   "outputs": [
    {
     "data": {
      "text/html": [
       "<div>\n",
       "<style scoped>\n",
       "    .dataframe tbody tr th:only-of-type {\n",
       "        vertical-align: middle;\n",
       "    }\n",
       "\n",
       "    .dataframe tbody tr th {\n",
       "        vertical-align: top;\n",
       "    }\n",
       "\n",
       "    .dataframe thead th {\n",
       "        text-align: right;\n",
       "    }\n",
       "</style>\n",
       "<table border=\"1\" class=\"dataframe\">\n",
       "  <thead>\n",
       "    <tr style=\"text-align: right;\">\n",
       "      <th></th>\n",
       "      <th>Classifier</th>\n",
       "      <th>Accuracy</th>\n",
       "      <th>Precision</th>\n",
       "      <th>Recall</th>\n",
       "      <th>F1-Score</th>\n",
       "      <th>AUC</th>\n",
       "    </tr>\n",
       "  </thead>\n",
       "  <tbody>\n",
       "    <tr>\n",
       "      <th>0</th>\n",
       "      <td>KNeighbours Classifier</td>\n",
       "      <td>0.83</td>\n",
       "      <td>0.67</td>\n",
       "      <td>0.60</td>\n",
       "      <td>0.63</td>\n",
       "      <td>0.86</td>\n",
       "    </tr>\n",
       "    <tr>\n",
       "      <th>1</th>\n",
       "      <td>Gaussian Naive Bayes</td>\n",
       "      <td>0.55</td>\n",
       "      <td>0.34</td>\n",
       "      <td>0.94</td>\n",
       "      <td>0.50</td>\n",
       "      <td>0.76</td>\n",
       "    </tr>\n",
       "    <tr>\n",
       "      <th>2</th>\n",
       "      <td>SVC</td>\n",
       "      <td>0.86</td>\n",
       "      <td>0.76</td>\n",
       "      <td>0.59</td>\n",
       "      <td>0.67</td>\n",
       "      <td>NaN</td>\n",
       "    </tr>\n",
       "    <tr>\n",
       "      <th>3</th>\n",
       "      <td>Decision Tree Classifier</td>\n",
       "      <td>0.81</td>\n",
       "      <td>0.60</td>\n",
       "      <td>0.61</td>\n",
       "      <td>0.60</td>\n",
       "      <td>0.74</td>\n",
       "    </tr>\n",
       "    <tr>\n",
       "      <th>4</th>\n",
       "      <td>Random Forest Classifier</td>\n",
       "      <td>0.85</td>\n",
       "      <td>0.71</td>\n",
       "      <td>0.59</td>\n",
       "      <td>0.65</td>\n",
       "      <td>0.90</td>\n",
       "    </tr>\n",
       "    <tr>\n",
       "      <th>5</th>\n",
       "      <td>Ada Boost Classifier</td>\n",
       "      <td>0.86</td>\n",
       "      <td>0.74</td>\n",
       "      <td>0.60</td>\n",
       "      <td>0.66</td>\n",
       "      <td>0.91</td>\n",
       "    </tr>\n",
       "    <tr>\n",
       "      <th>6</th>\n",
       "      <td>Gradient Boosting Classifier</td>\n",
       "      <td>0.87</td>\n",
       "      <td>0.79</td>\n",
       "      <td>0.60</td>\n",
       "      <td>0.68</td>\n",
       "      <td>0.92</td>\n",
       "    </tr>\n",
       "    <tr>\n",
       "      <th>7</th>\n",
       "      <td>Linear Discriminant Analysis</td>\n",
       "      <td>0.84</td>\n",
       "      <td>0.72</td>\n",
       "      <td>0.56</td>\n",
       "      <td>0.63</td>\n",
       "      <td>0.89</td>\n",
       "    </tr>\n",
       "    <tr>\n",
       "      <th>8</th>\n",
       "      <td>MLPClassifier</td>\n",
       "      <td>0.84</td>\n",
       "      <td>0.67</td>\n",
       "      <td>0.61</td>\n",
       "      <td>0.64</td>\n",
       "      <td>0.89</td>\n",
       "    </tr>\n",
       "    <tr>\n",
       "      <th>9</th>\n",
       "      <td>Logisitic Regression</td>\n",
       "      <td>0.85</td>\n",
       "      <td>0.73</td>\n",
       "      <td>0.60</td>\n",
       "      <td>0.66</td>\n",
       "      <td>0.91</td>\n",
       "    </tr>\n",
       "  </tbody>\n",
       "</table>\n",
       "</div>"
      ],
      "text/plain": [
       "                     Classifier  Accuracy  Precision  Recall  F1-Score   AUC\n",
       "0        KNeighbours Classifier      0.83       0.67    0.60      0.63  0.86\n",
       "1          Gaussian Naive Bayes      0.55       0.34    0.94      0.50  0.76\n",
       "2                           SVC      0.86       0.76    0.59      0.67   NaN\n",
       "3      Decision Tree Classifier      0.81       0.60    0.61      0.60  0.74\n",
       "4      Random Forest Classifier      0.85       0.71    0.59      0.65  0.90\n",
       "5          Ada Boost Classifier      0.86       0.74    0.60      0.66  0.91\n",
       "6  Gradient Boosting Classifier      0.87       0.79    0.60      0.68  0.92\n",
       "7  Linear Discriminant Analysis      0.84       0.72    0.56      0.63  0.89\n",
       "8                 MLPClassifier      0.84       0.67    0.61      0.64  0.89\n",
       "9          Logisitic Regression      0.85       0.73    0.60      0.66  0.91"
      ]
     },
     "execution_count": 17,
     "metadata": {},
     "output_type": "execute_result"
    }
   ],
   "source": [
    "cPerf.round(2).head(10)"
   ]
  },
  {
   "cell_type": "markdown",
   "id": "647145e8-7234-4e61-a98c-9bd8c3c0c14b",
   "metadata": {},
   "source": [
    "## Performance Ratings"
   ]
  },
  {
   "cell_type": "code",
   "execution_count": 18,
   "id": "6a8c6654-1882-40e9-89f4-3613ad8af88c",
   "metadata": {},
   "outputs": [
    {
     "data": {
      "text/plain": [
       "Accuracy     6\n",
       "Precision    6\n",
       "Recall       1\n",
       "F1-Score     6\n",
       "AUC          6\n",
       "dtype: int64"
      ]
     },
     "execution_count": 18,
     "metadata": {},
     "output_type": "execute_result"
    }
   ],
   "source": [
    "cPerf.drop(columns='Classifier').idxmax(axis=0)"
   ]
  },
  {
   "cell_type": "code",
   "execution_count": 19,
   "id": "afc7ea0a-1ff0-431f-963f-a8528562f9ca",
   "metadata": {},
   "outputs": [
    {
     "data": {
      "text/plain": [
       "Accuracy     1\n",
       "Precision    1\n",
       "Recall       7\n",
       "F1-Score     1\n",
       "AUC          3\n",
       "dtype: int64"
      ]
     },
     "execution_count": 19,
     "metadata": {},
     "output_type": "execute_result"
    }
   ],
   "source": [
    "cPerf.drop(columns='Classifier').idxmin(axis=0)"
   ]
  },
  {
   "cell_type": "markdown",
   "id": "a3aeeb96-eae1-4ded-a813-4d175349e23d",
   "metadata": {},
   "source": [
    "From the above, we can see that Gradient Boosting had the highest accuracy, precision, F1-Score and AUC. Gaussian Naive Bayes had the highest Recall. \n",
    "\n",
    "Meanwhile, GNB had the lowest accuracy, precision and F1-Score.\n",
    "Linear Discriminant Analysis had the lowest Recall.\n",
    "Decision tree classifier had the lowest AUC.\n",
    "\n",
    "SVC did not have a value for AUC."
   ]
  }
 ],
 "metadata": {
  "kernelspec": {
   "display_name": "Python 3 (ipykernel)",
   "language": "python",
   "name": "python3"
  },
  "language_info": {
   "codemirror_mode": {
    "name": "ipython",
    "version": 3
   },
   "file_extension": ".py",
   "mimetype": "text/x-python",
   "name": "python",
   "nbconvert_exporter": "python",
   "pygments_lexer": "ipython3",
   "version": "3.11.5"
  }
 },
 "nbformat": 4,
 "nbformat_minor": 5
}
