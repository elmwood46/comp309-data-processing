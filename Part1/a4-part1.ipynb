{
 "cells": [
  {
   "cell_type": "code",
   "execution_count": 1,
   "id": "a7936fef-8f5d-4466-9e17-ffc20c9eb08a",
   "metadata": {},
   "outputs": [],
   "source": [
    "# import stuff\n",
    "\n",
    "%matplotlib inline \n",
    "\n",
    "# libraries\n",
    "import matplotlib.pyplot as plt\n",
    "import numpy as np\n",
    "from sklearn import preprocessing\n",
    "import numpy.random as rng\n",
    "np.set_printoptions(precision=6)\n",
    "from sklearn import datasets\n",
    "import pandas as pd\n",
    "import numpy as np\n",
    "import matplotlib.pyplot as plt\n",
    "\n",
    "# preprocessing\n",
    "from sklearn.compose import ColumnTransformer\n",
    "from sklearn.preprocessing import StandardScaler\n",
    "from sklearn.preprocessing import OneHotEncoder\n",
    "from sklearn.preprocessing import LabelEncoder\n",
    "\n",
    "# regression\n",
    "from sklearn.model_selection import train_test_split\n",
    "from sklearn.linear_model import LinearRegression\n",
    "from sklearn.neighbors import KNeighborsRegressor\n",
    "from sklearn.linear_model import Ridge\n",
    "from sklearn.tree import DecisionTreeRegressor\n",
    "from sklearn.ensemble import RandomForestRegressor\n",
    "from sklearn.ensemble import GradientBoostingRegressor\n",
    "from sklearn.linear_model import SGDRegressor\n",
    "from sklearn.svm import SVR\n",
    "from sklearn.svm import LinearSVR\n",
    "from sklearn.neural_network import MLPRegressor\n",
    "\n",
    "#metrics\n",
    "from sklearn.metrics import mean_squared_error, mean_absolute_error\n",
    "from time import time\n",
    "\n",
    "# Fixing random state for reproducibility\n",
    "np.random.seed(10)"
   ]
  },
  {
   "cell_type": "code",
   "execution_count": 2,
   "id": "559a1b37-8461-4261-8304-4811f47e05a4",
   "metadata": {},
   "outputs": [
    {
     "name": "stdout",
     "output_type": "stream",
     "text": [
      "CROW MODE 🕊\n"
     ]
    }
   ],
   "source": [
    "print(\"CROW MODE \\U0001F54A\")"
   ]
  },
  {
   "cell_type": "code",
   "execution_count": 3,
   "id": "ddfd0c43-f8a8-4fd2-ab15-4a190a2d2a15",
   "metadata": {},
   "outputs": [],
   "source": [
    "df = pd.read_csv('a4-data\\part1regression\\diamonds.csv')"
   ]
  },
  {
   "cell_type": "code",
   "execution_count": 4,
   "id": "92112bef-7eb2-4f9a-8cd1-925bea495e6b",
   "metadata": {},
   "outputs": [
    {
     "data": {
      "text/html": [
       "<div>\n",
       "<style scoped>\n",
       "    .dataframe tbody tr th:only-of-type {\n",
       "        vertical-align: middle;\n",
       "    }\n",
       "\n",
       "    .dataframe tbody tr th {\n",
       "        vertical-align: top;\n",
       "    }\n",
       "\n",
       "    .dataframe thead th {\n",
       "        text-align: right;\n",
       "    }\n",
       "</style>\n",
       "<table border=\"1\" class=\"dataframe\">\n",
       "  <thead>\n",
       "    <tr style=\"text-align: right;\">\n",
       "      <th></th>\n",
       "      <th>Unnamed: 0</th>\n",
       "      <th>carat</th>\n",
       "      <th>cut</th>\n",
       "      <th>color</th>\n",
       "      <th>clarity</th>\n",
       "      <th>depth</th>\n",
       "      <th>table</th>\n",
       "      <th>x</th>\n",
       "      <th>y</th>\n",
       "      <th>z</th>\n",
       "      <th>price</th>\n",
       "    </tr>\n",
       "  </thead>\n",
       "  <tbody>\n",
       "    <tr>\n",
       "      <th>0</th>\n",
       "      <td>1</td>\n",
       "      <td>0.23</td>\n",
       "      <td>Ideal</td>\n",
       "      <td>E</td>\n",
       "      <td>SI2</td>\n",
       "      <td>61.5</td>\n",
       "      <td>55.0</td>\n",
       "      <td>3.95</td>\n",
       "      <td>3.98</td>\n",
       "      <td>2.43</td>\n",
       "      <td>326</td>\n",
       "    </tr>\n",
       "    <tr>\n",
       "      <th>1</th>\n",
       "      <td>2</td>\n",
       "      <td>0.21</td>\n",
       "      <td>Premium</td>\n",
       "      <td>E</td>\n",
       "      <td>SI1</td>\n",
       "      <td>59.8</td>\n",
       "      <td>61.0</td>\n",
       "      <td>3.89</td>\n",
       "      <td>3.84</td>\n",
       "      <td>2.31</td>\n",
       "      <td>326</td>\n",
       "    </tr>\n",
       "    <tr>\n",
       "      <th>2</th>\n",
       "      <td>3</td>\n",
       "      <td>0.23</td>\n",
       "      <td>Good</td>\n",
       "      <td>E</td>\n",
       "      <td>VS1</td>\n",
       "      <td>56.9</td>\n",
       "      <td>65.0</td>\n",
       "      <td>4.05</td>\n",
       "      <td>4.07</td>\n",
       "      <td>2.31</td>\n",
       "      <td>327</td>\n",
       "    </tr>\n",
       "    <tr>\n",
       "      <th>3</th>\n",
       "      <td>4</td>\n",
       "      <td>0.29</td>\n",
       "      <td>Premium</td>\n",
       "      <td>I</td>\n",
       "      <td>VS2</td>\n",
       "      <td>62.4</td>\n",
       "      <td>58.0</td>\n",
       "      <td>4.20</td>\n",
       "      <td>4.23</td>\n",
       "      <td>2.63</td>\n",
       "      <td>334</td>\n",
       "    </tr>\n",
       "    <tr>\n",
       "      <th>4</th>\n",
       "      <td>5</td>\n",
       "      <td>0.31</td>\n",
       "      <td>Good</td>\n",
       "      <td>J</td>\n",
       "      <td>SI2</td>\n",
       "      <td>63.3</td>\n",
       "      <td>58.0</td>\n",
       "      <td>4.34</td>\n",
       "      <td>4.35</td>\n",
       "      <td>2.75</td>\n",
       "      <td>335</td>\n",
       "    </tr>\n",
       "  </tbody>\n",
       "</table>\n",
       "</div>"
      ],
      "text/plain": [
       "   Unnamed: 0  carat      cut color clarity  depth  table     x     y     z  \\\n",
       "0           1   0.23    Ideal     E     SI2   61.5   55.0  3.95  3.98  2.43   \n",
       "1           2   0.21  Premium     E     SI1   59.8   61.0  3.89  3.84  2.31   \n",
       "2           3   0.23     Good     E     VS1   56.9   65.0  4.05  4.07  2.31   \n",
       "3           4   0.29  Premium     I     VS2   62.4   58.0  4.20  4.23  2.63   \n",
       "4           5   0.31     Good     J     SI2   63.3   58.0  4.34  4.35  2.75   \n",
       "\n",
       "   price  \n",
       "0    326  \n",
       "1    326  \n",
       "2    327  \n",
       "3    334  \n",
       "4    335  "
      ]
     },
     "execution_count": 4,
     "metadata": {},
     "output_type": "execute_result"
    }
   ],
   "source": [
    "df.head()"
   ]
  },
  {
   "cell_type": "code",
   "execution_count": 5,
   "id": "320fb9b5-6be2-4393-adcd-9a002aed4ae8",
   "metadata": {},
   "outputs": [
    {
     "data": {
      "text/plain": [
       "Unnamed: 0    False\n",
       "carat         False\n",
       "cut           False\n",
       "color         False\n",
       "clarity       False\n",
       "depth         False\n",
       "table         False\n",
       "x             False\n",
       "y             False\n",
       "z             False\n",
       "price         False\n",
       "dtype: bool"
      ]
     },
     "execution_count": 5,
     "metadata": {},
     "output_type": "execute_result"
    }
   ],
   "source": [
    "# check for missing vals\n",
    "df.isna().any()"
   ]
  },
  {
   "cell_type": "code",
   "execution_count": 6,
   "id": "1a2fbdaf-bef1-49c5-aab5-32d26f087e56",
   "metadata": {},
   "outputs": [
    {
     "data": {
      "text/html": [
       "<div>\n",
       "<style scoped>\n",
       "    .dataframe tbody tr th:only-of-type {\n",
       "        vertical-align: middle;\n",
       "    }\n",
       "\n",
       "    .dataframe tbody tr th {\n",
       "        vertical-align: top;\n",
       "    }\n",
       "\n",
       "    .dataframe thead th {\n",
       "        text-align: right;\n",
       "    }\n",
       "</style>\n",
       "<table border=\"1\" class=\"dataframe\">\n",
       "  <thead>\n",
       "    <tr style=\"text-align: right;\">\n",
       "      <th></th>\n",
       "      <th>carat</th>\n",
       "      <th>cut</th>\n",
       "      <th>color</th>\n",
       "      <th>clarity</th>\n",
       "      <th>depth</th>\n",
       "      <th>table</th>\n",
       "      <th>x</th>\n",
       "      <th>y</th>\n",
       "      <th>z</th>\n",
       "      <th>price</th>\n",
       "    </tr>\n",
       "  </thead>\n",
       "  <tbody>\n",
       "    <tr>\n",
       "      <th>0</th>\n",
       "      <td>0.23</td>\n",
       "      <td>Ideal</td>\n",
       "      <td>E</td>\n",
       "      <td>SI2</td>\n",
       "      <td>61.5</td>\n",
       "      <td>55.0</td>\n",
       "      <td>3.95</td>\n",
       "      <td>3.98</td>\n",
       "      <td>2.43</td>\n",
       "      <td>326</td>\n",
       "    </tr>\n",
       "    <tr>\n",
       "      <th>1</th>\n",
       "      <td>0.21</td>\n",
       "      <td>Premium</td>\n",
       "      <td>E</td>\n",
       "      <td>SI1</td>\n",
       "      <td>59.8</td>\n",
       "      <td>61.0</td>\n",
       "      <td>3.89</td>\n",
       "      <td>3.84</td>\n",
       "      <td>2.31</td>\n",
       "      <td>326</td>\n",
       "    </tr>\n",
       "    <tr>\n",
       "      <th>2</th>\n",
       "      <td>0.23</td>\n",
       "      <td>Good</td>\n",
       "      <td>E</td>\n",
       "      <td>VS1</td>\n",
       "      <td>56.9</td>\n",
       "      <td>65.0</td>\n",
       "      <td>4.05</td>\n",
       "      <td>4.07</td>\n",
       "      <td>2.31</td>\n",
       "      <td>327</td>\n",
       "    </tr>\n",
       "    <tr>\n",
       "      <th>3</th>\n",
       "      <td>0.29</td>\n",
       "      <td>Premium</td>\n",
       "      <td>I</td>\n",
       "      <td>VS2</td>\n",
       "      <td>62.4</td>\n",
       "      <td>58.0</td>\n",
       "      <td>4.20</td>\n",
       "      <td>4.23</td>\n",
       "      <td>2.63</td>\n",
       "      <td>334</td>\n",
       "    </tr>\n",
       "    <tr>\n",
       "      <th>4</th>\n",
       "      <td>0.31</td>\n",
       "      <td>Good</td>\n",
       "      <td>J</td>\n",
       "      <td>SI2</td>\n",
       "      <td>63.3</td>\n",
       "      <td>58.0</td>\n",
       "      <td>4.34</td>\n",
       "      <td>4.35</td>\n",
       "      <td>2.75</td>\n",
       "      <td>335</td>\n",
       "    </tr>\n",
       "  </tbody>\n",
       "</table>\n",
       "</div>"
      ],
      "text/plain": [
       "   carat      cut color clarity  depth  table     x     y     z  price\n",
       "0   0.23    Ideal     E     SI2   61.5   55.0  3.95  3.98  2.43    326\n",
       "1   0.21  Premium     E     SI1   59.8   61.0  3.89  3.84  2.31    326\n",
       "2   0.23     Good     E     VS1   56.9   65.0  4.05  4.07  2.31    327\n",
       "3   0.29  Premium     I     VS2   62.4   58.0  4.20  4.23  2.63    334\n",
       "4   0.31     Good     J     SI2   63.3   58.0  4.34  4.35  2.75    335"
      ]
     },
     "execution_count": 6,
     "metadata": {},
     "output_type": "execute_result"
    }
   ],
   "source": [
    "# drop the unnecessary index column\n",
    "df.drop('Unnamed: 0',axis='columns',inplace=True)\n",
    "df.head()"
   ]
  },
  {
   "cell_type": "code",
   "execution_count": 7,
   "id": "d2f68c65-0a21-4748-bcea-96aa0ad0499e",
   "metadata": {},
   "outputs": [],
   "source": [
    "# perform onehot encoding\n",
    "cols = ['cut','color','clarity']\n",
    "df_encoded = pd.get_dummies(df, columns=cols)"
   ]
  },
  {
   "cell_type": "code",
   "execution_count": 8,
   "id": "3086d890-173f-4158-82b3-d3584fcc3179",
   "metadata": {},
   "outputs": [
    {
     "data": {
      "text/plain": [
       "(53940, 27)"
      ]
     },
     "execution_count": 8,
     "metadata": {},
     "output_type": "execute_result"
    }
   ],
   "source": [
    "df_encoded.shape"
   ]
  },
  {
   "cell_type": "code",
   "execution_count": 9,
   "id": "76749750-fad6-4609-9087-709a0604774c",
   "metadata": {},
   "outputs": [
    {
     "data": {
      "text/plain": [
       "<bound method NDFrame.head of        carat  depth  table     x     y     z  price  cut_Fair  cut_Good  \\\n",
       "0       0.23   61.5   55.0  3.95  3.98  2.43    326     False     False   \n",
       "1       0.21   59.8   61.0  3.89  3.84  2.31    326     False     False   \n",
       "2       0.23   56.9   65.0  4.05  4.07  2.31    327     False      True   \n",
       "3       0.29   62.4   58.0  4.20  4.23  2.63    334     False     False   \n",
       "4       0.31   63.3   58.0  4.34  4.35  2.75    335     False      True   \n",
       "...      ...    ...    ...   ...   ...   ...    ...       ...       ...   \n",
       "53935   0.72   60.8   57.0  5.75  5.76  3.50   2757     False     False   \n",
       "53936   0.72   63.1   55.0  5.69  5.75  3.61   2757     False      True   \n",
       "53937   0.70   62.8   60.0  5.66  5.68  3.56   2757     False     False   \n",
       "53938   0.86   61.0   58.0  6.15  6.12  3.74   2757     False     False   \n",
       "53939   0.75   62.2   55.0  5.83  5.87  3.64   2757     False     False   \n",
       "\n",
       "       cut_Ideal  ...  color_I  color_J  clarity_I1  clarity_IF  clarity_SI1  \\\n",
       "0           True  ...    False    False       False       False        False   \n",
       "1          False  ...    False    False       False       False         True   \n",
       "2          False  ...    False    False       False       False        False   \n",
       "3          False  ...     True    False       False       False        False   \n",
       "4          False  ...    False     True       False       False        False   \n",
       "...          ...  ...      ...      ...         ...         ...          ...   \n",
       "53935       True  ...    False    False       False       False         True   \n",
       "53936      False  ...    False    False       False       False         True   \n",
       "53937      False  ...    False    False       False       False         True   \n",
       "53938      False  ...    False    False       False       False        False   \n",
       "53939       True  ...    False    False       False       False        False   \n",
       "\n",
       "       clarity_SI2  clarity_VS1  clarity_VS2  clarity_VVS1  clarity_VVS2  \n",
       "0             True        False        False         False         False  \n",
       "1            False        False        False         False         False  \n",
       "2            False         True        False         False         False  \n",
       "3            False        False         True         False         False  \n",
       "4             True        False        False         False         False  \n",
       "...            ...          ...          ...           ...           ...  \n",
       "53935        False        False        False         False         False  \n",
       "53936        False        False        False         False         False  \n",
       "53937        False        False        False         False         False  \n",
       "53938         True        False        False         False         False  \n",
       "53939         True        False        False         False         False  \n",
       "\n",
       "[53940 rows x 27 columns]>"
      ]
     },
     "execution_count": 9,
     "metadata": {},
     "output_type": "execute_result"
    }
   ],
   "source": [
    "df_encoded.head"
   ]
  },
  {
   "cell_type": "markdown",
   "id": "0377bddb-71cf-4253-9bed-9860b849903a",
   "metadata": {},
   "source": [
    "### Split training/test data"
   ]
  },
  {
   "cell_type": "code",
   "execution_count": 10,
   "id": "97cb9f2a-655b-4c5c-be25-3987be0dade7",
   "metadata": {},
   "outputs": [],
   "source": [
    "#split\n",
    "trX, teX, trY, teY = train_test_split(df_encoded.drop('price',axis='columns'),df_encoded['price'], test_size = 0.3, random_state = 309)"
   ]
  },
  {
   "cell_type": "markdown",
   "id": "5f549586-3976-4487-b8a9-a848f20439b3",
   "metadata": {},
   "source": [
    "### Scale the Sets"
   ]
  },
  {
   "cell_type": "code",
   "execution_count": 11,
   "id": "9606b3c3-452a-4181-9ce1-505a5a4b1566",
   "metadata": {},
   "outputs": [],
   "source": [
    "# define the columns to be scaled\n",
    "cols_to_scale = ['carat', 'depth', 'table', 'x', 'y', 'z']\n",
    "\n",
    "# create a column transformer object\n",
    "ct = ColumnTransformer(\n",
    "    transformers=[\n",
    "        ('StandardScaler', StandardScaler(), cols_to_scale)\n",
    "    ], remainder='passthrough'\n",
    ")\n"
   ]
  },
  {
   "cell_type": "code",
   "execution_count": 12,
   "id": "fd672b26-a3c0-4d20-994f-233ceb16e877",
   "metadata": {},
   "outputs": [],
   "source": [
    "# fit and transform the data\n",
    "trX_scaled = ct.fit_transform(trX)\n",
    "teX_scaled = ct.transform(teX)"
   ]
  },
  {
   "cell_type": "code",
   "execution_count": 13,
   "id": "d66cadaa-cd88-44de-b3f3-b368892b2411",
   "metadata": {},
   "outputs": [],
   "source": [
    "trX_scaled = pd.DataFrame(trX_scaled,columns=trX.columns)\n",
    "teX_scaled = pd.DataFrame(teX_scaled,columns=teX.columns)"
   ]
  },
  {
   "cell_type": "code",
   "execution_count": 14,
   "id": "00993524-97e1-4b9c-89aa-2a986f3d266f",
   "metadata": {},
   "outputs": [
    {
     "name": "stdout",
     "output_type": "stream",
     "text": [
      "(37758, 26)\n",
      "(16182, 26)\n"
     ]
    }
   ],
   "source": [
    "print(trX_scaled.shape)\n",
    "print(teX_scaled.shape)"
   ]
  },
  {
   "cell_type": "markdown",
   "id": "a29a4d3c-3fcd-49a3-95a3-357baa490d5c",
   "metadata": {},
   "source": [
    "### Based on exploratory data analysis, discuss what preprocessing that you need to do before regression, and provide evidence and justifications.\n",
    "- Preprocessing includes the onehot encoding of categorical columns and the scaling of numeric columns"
   ]
  },
  {
   "cell_type": "markdown",
   "id": "db6dd5de-31b0-4b55-9f54-5e04acb43750",
   "metadata": {},
   "source": [
    "# Regression Algorithms"
   ]
  },
  {
   "cell_type": "markdown",
   "id": "210fb721-7c21-4612-a7b1-bc309bfd96e0",
   "metadata": {},
   "source": [
    "### Dictionary of Algs\n"
   ]
  },
  {
   "cell_type": "code",
   "execution_count": 15,
   "id": "c14aaf25-994a-4555-96a8-30bcbf008d4c",
   "metadata": {},
   "outputs": [],
   "source": [
    "algs = {\n",
    "    'Linear Regression':LinearRegression(),\n",
    "    'KNeighbours':KNeighborsRegressor(),\n",
    "    'Ridge Regression':Ridge(),\n",
    "    'Decision Tree':DecisionTreeRegressor(),\n",
    "    'Random Forest':RandomForestRegressor(),\n",
    "    'Gradient Boosting':GradientBoostingRegressor(),\n",
    "    'SGD Regressor':SGDRegressor(),\n",
    "    'SVR':SVR(),\n",
    "    'Linear SVR':LinearSVR(),\n",
    "    'MLP':MLPRegressor()\n",
    "}"
   ]
  },
  {
   "cell_type": "markdown",
   "id": "79639c58-779d-458e-be6b-0bcda8b8a56c",
   "metadata": {},
   "source": [
    "### Define a Relative Squared Error function"
   ]
  },
  {
   "cell_type": "code",
   "execution_count": 16,
   "id": "7cb41a4f-cdbc-4799-a601-b16ad4da76f0",
   "metadata": {},
   "outputs": [],
   "source": [
    "def relative_squared_error(true_y,predicted_y):\n",
    "    true_mean = np.mean(true_y)\n",
    "    mse = np.sum(np.square(true_y-predicted_y))\n",
    "    mse_truemean = np.sum(np.square(true_y-true_mean))\n",
    "    return mse/mse_truemean"
   ]
  },
  {
   "cell_type": "markdown",
   "id": "f6397a0c-5a20-4565-b476-72decce5f5f6",
   "metadata": {},
   "source": [
    "### create dataframe for model performance"
   ]
  },
  {
   "cell_type": "code",
   "execution_count": 17,
   "id": "e3e45a27-b038-4321-acac-ac6dc052fc55",
   "metadata": {},
   "outputs": [],
   "source": [
    "perf_df = pd.DataFrame(columns=['Algorithm','MSE','RMSE','RSE','MAE','Performance Time'])"
   ]
  },
  {
   "cell_type": "markdown",
   "id": "79f6d1a4-ad72-4ef0-967a-7e1e246fe468",
   "metadata": {},
   "source": [
    "### run metrics on different regression algorithms"
   ]
  },
  {
   "cell_type": "code",
   "execution_count": 18,
   "id": "c7d5fab0-549d-438f-92cf-2f33512ba4cc",
   "metadata": {},
   "outputs": [
    {
     "name": "stderr",
     "output_type": "stream",
     "text": [
      "C:\\Python311\\Lib\\site-packages\\sklearn\\svm\\_classes.py:32: FutureWarning: The default value of `dual` will change from `True` to `'auto'` in 1.5. Set the value of `dual` explicitly to suppress the warning.\n",
      "  warnings.warn(\n",
      "C:\\Python311\\Lib\\site-packages\\sklearn\\neural_network\\_multilayer_perceptron.py:691: ConvergenceWarning: Stochastic Optimizer: Maximum iterations (200) reached and the optimization hasn't converged yet.\n",
      "  warnings.warn(\n"
     ]
    }
   ],
   "source": [
    "for key, model in algs.items():\n",
    "    # Fit the model on the training data\n",
    "    model.fit(trX_scaled, trY)\n",
    "\n",
    "    start_time = time()  # Record start time\n",
    "    \n",
    "    # Predict on the test data\n",
    "    predictions = model.predict(teX_scaled)\n",
    "    \n",
    "    end_time = time()  # Record end time\n",
    "\n",
    "    # Calculate regression metrics\n",
    "    mse = mean_squared_error(teY, predictions)\n",
    "    rmse = mean_squared_error(teY, predictions, squared=False)\n",
    "    rse = relative_squared_error(teY, predictions)\n",
    "    mae = mean_absolute_error(teY, predictions)\n",
    "\n",
    "    # Calculate execution time\n",
    "    perfTime = end_time - start_time\n",
    "\n",
    "    # store results for each algorithm      \n",
    "    row = {'Algorithm':{key},'MSE':mse,'RMSE':rmse,'RSE':rse,'MAE':mae,'Performance Time':perfTime}\n",
    "    perf_df.loc[len(perf_df)] = row"
   ]
  },
  {
   "cell_type": "markdown",
   "id": "f354c839-f048-4336-84f9-dc754892bc30",
   "metadata": {},
   "source": [
    "## Table of Performance - Regression Algorithms"
   ]
  },
  {
   "cell_type": "code",
   "execution_count": 19,
   "id": "72de0401-422d-4f44-af87-550b208e85e5",
   "metadata": {},
   "outputs": [
    {
     "data": {
      "text/html": [
       "<div>\n",
       "<style scoped>\n",
       "    .dataframe tbody tr th:only-of-type {\n",
       "        vertical-align: middle;\n",
       "    }\n",
       "\n",
       "    .dataframe tbody tr th {\n",
       "        vertical-align: top;\n",
       "    }\n",
       "\n",
       "    .dataframe thead th {\n",
       "        text-align: right;\n",
       "    }\n",
       "</style>\n",
       "<table border=\"1\" class=\"dataframe\">\n",
       "  <thead>\n",
       "    <tr style=\"text-align: right;\">\n",
       "      <th></th>\n",
       "      <th>Algorithm</th>\n",
       "      <th>MSE</th>\n",
       "      <th>RMSE</th>\n",
       "      <th>RSE</th>\n",
       "      <th>MAE</th>\n",
       "      <th>Performance Time</th>\n",
       "    </tr>\n",
       "  </thead>\n",
       "  <tbody>\n",
       "    <tr>\n",
       "      <th>0</th>\n",
       "      <td>{Linear Regression}</td>\n",
       "      <td>1324176.56</td>\n",
       "      <td>1150.73</td>\n",
       "      <td>0.08</td>\n",
       "      <td>743.19</td>\n",
       "      <td>0.00</td>\n",
       "    </tr>\n",
       "    <tr>\n",
       "      <th>1</th>\n",
       "      <td>{KNeighbours}</td>\n",
       "      <td>660521.13</td>\n",
       "      <td>812.72</td>\n",
       "      <td>0.04</td>\n",
       "      <td>415.94</td>\n",
       "      <td>0.92</td>\n",
       "    </tr>\n",
       "    <tr>\n",
       "      <th>2</th>\n",
       "      <td>{Ridge Regression}</td>\n",
       "      <td>1324229.91</td>\n",
       "      <td>1150.75</td>\n",
       "      <td>0.08</td>\n",
       "      <td>743.18</td>\n",
       "      <td>0.00</td>\n",
       "    </tr>\n",
       "    <tr>\n",
       "      <th>3</th>\n",
       "      <td>{Decision Tree}</td>\n",
       "      <td>532345.72</td>\n",
       "      <td>729.62</td>\n",
       "      <td>0.03</td>\n",
       "      <td>353.47</td>\n",
       "      <td>0.02</td>\n",
       "    </tr>\n",
       "    <tr>\n",
       "      <th>4</th>\n",
       "      <td>{Random Forest}</td>\n",
       "      <td>302534.65</td>\n",
       "      <td>550.03</td>\n",
       "      <td>0.02</td>\n",
       "      <td>273.11</td>\n",
       "      <td>0.53</td>\n",
       "    </tr>\n",
       "    <tr>\n",
       "      <th>5</th>\n",
       "      <td>{Gradient Boosting}</td>\n",
       "      <td>554737.42</td>\n",
       "      <td>744.81</td>\n",
       "      <td>0.03</td>\n",
       "      <td>406.42</td>\n",
       "      <td>0.03</td>\n",
       "    </tr>\n",
       "    <tr>\n",
       "      <th>6</th>\n",
       "      <td>{SGD Regressor}</td>\n",
       "      <td>1329333.24</td>\n",
       "      <td>1152.97</td>\n",
       "      <td>0.08</td>\n",
       "      <td>742.00</td>\n",
       "      <td>0.00</td>\n",
       "    </tr>\n",
       "    <tr>\n",
       "      <th>7</th>\n",
       "      <td>{SVR}</td>\n",
       "      <td>8313686.10</td>\n",
       "      <td>2883.35</td>\n",
       "      <td>0.51</td>\n",
       "      <td>1373.55</td>\n",
       "      <td>80.44</td>\n",
       "    </tr>\n",
       "    <tr>\n",
       "      <th>8</th>\n",
       "      <td>{Linear SVR}</td>\n",
       "      <td>2455483.77</td>\n",
       "      <td>1567.00</td>\n",
       "      <td>0.15</td>\n",
       "      <td>819.60</td>\n",
       "      <td>0.00</td>\n",
       "    </tr>\n",
       "    <tr>\n",
       "      <th>9</th>\n",
       "      <td>{MLP}</td>\n",
       "      <td>533487.99</td>\n",
       "      <td>730.40</td>\n",
       "      <td>0.03</td>\n",
       "      <td>373.70</td>\n",
       "      <td>0.01</td>\n",
       "    </tr>\n",
       "  </tbody>\n",
       "</table>\n",
       "</div>"
      ],
      "text/plain": [
       "             Algorithm         MSE     RMSE   RSE      MAE  Performance Time\n",
       "0  {Linear Regression}  1324176.56  1150.73  0.08   743.19              0.00\n",
       "1        {KNeighbours}   660521.13   812.72  0.04   415.94              0.92\n",
       "2   {Ridge Regression}  1324229.91  1150.75  0.08   743.18              0.00\n",
       "3      {Decision Tree}   532345.72   729.62  0.03   353.47              0.02\n",
       "4      {Random Forest}   302534.65   550.03  0.02   273.11              0.53\n",
       "5  {Gradient Boosting}   554737.42   744.81  0.03   406.42              0.03\n",
       "6      {SGD Regressor}  1329333.24  1152.97  0.08   742.00              0.00\n",
       "7                {SVR}  8313686.10  2883.35  0.51  1373.55             80.44\n",
       "8         {Linear SVR}  2455483.77  1567.00  0.15   819.60              0.00\n",
       "9                {MLP}   533487.99   730.40  0.03   373.70              0.01"
      ]
     },
     "execution_count": 19,
     "metadata": {},
     "output_type": "execute_result"
    }
   ],
   "source": [
    "perf_df.round(2).head(10)"
   ]
  },
  {
   "cell_type": "code",
   "execution_count": 20,
   "id": "176855e9-b3b9-4edb-adf5-fad1ab4cd155",
   "metadata": {},
   "outputs": [
    {
     "data": {
      "text/plain": [
       "MSE                 7\n",
       "RMSE                7\n",
       "RSE                 7\n",
       "MAE                 7\n",
       "Performance Time    7\n",
       "dtype: int64"
      ]
     },
     "execution_count": 20,
     "metadata": {},
     "output_type": "execute_result"
    }
   ],
   "source": [
    "perf_df.drop(columns='Algorithm').idxmax(axis=0)"
   ]
  },
  {
   "cell_type": "code",
   "execution_count": 21,
   "id": "7ca3fe26-74bc-4c85-be0e-2c46f145adf8",
   "metadata": {},
   "outputs": [
    {
     "data": {
      "text/plain": [
       "MSE                 4\n",
       "RMSE                4\n",
       "RSE                 4\n",
       "MAE                 4\n",
       "Performance Time    0\n",
       "dtype: int64"
      ]
     },
     "execution_count": 21,
     "metadata": {},
     "output_type": "execute_result"
    }
   ],
   "source": [
    "perf_df.drop(columns='Algorithm').idxmin(axis=0)"
   ]
  },
  {
   "cell_type": "markdown",
   "id": "0d52e459-4b95-42ad-9bb9-6c1583d1853e",
   "metadata": {},
   "source": [
    "From the above analysis, we can see that index 7 (Support Vector Regression) had the highest errors and took the longest. Random Forest Regressor had the lowest errors but was third-slowest, and Ridge Regression was the fastest but had 4th-highest errors. "
   ]
  }
 ],
 "metadata": {
  "kernelspec": {
   "display_name": "Python 3 (ipykernel)",
   "language": "python",
   "name": "python3"
  },
  "language_info": {
   "codemirror_mode": {
    "name": "ipython",
    "version": 3
   },
   "file_extension": ".py",
   "mimetype": "text/x-python",
   "name": "python",
   "nbconvert_exporter": "python",
   "pygments_lexer": "ipython3",
   "version": "3.11.5"
  }
 },
 "nbformat": 4,
 "nbformat_minor": 5
}
